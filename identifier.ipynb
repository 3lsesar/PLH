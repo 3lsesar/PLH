{
 "cells": [
  {
   "cell_type": "markdown",
   "metadata": {},
   "source": [
    "## Preprocessing\n",
    "---\n",
    "\n",
    "· Eliminar digits del text \n",
    "· Convertir tot el text a minuscula\n",
    "· Eliminar caracters especials\n",
    "· Substitueix els espais en blanc continus per un de sol\n",
    "· Concatena totes les frases amb un espai doble al mig\n"
   ]
  },
  {
   "cell_type": "code",
   "execution_count": null,
   "metadata": {
    "vscode": {
     "languageId": "plaintext"
    }
   },
   "outputs": [],
   "source": []
  }
 ],
 "metadata": {
  "language_info": {
   "name": "python"
  }
 },
 "nbformat": 4,
 "nbformat_minor": 2
}

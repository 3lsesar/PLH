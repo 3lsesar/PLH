{
 "cells": [
  {
   "cell_type": "markdown",
   "metadata": {},
   "source": [
    "# Imports i definició de les variables d'arxius"
   ]
  },
  {
   "cell_type": "code",
   "execution_count": 5,
   "metadata": {},
   "outputs": [
    {
     "name": "stdout",
     "output_type": "stream",
     "text": [
      "['deu_trn.txt', 'eng_trn.txt', 'fra_trn.txt', 'ita_trn.txt', 'nld_trn.txt', 'spa_trn.txt']\n",
      "['deu_tst.txt', 'eng_tst.txt', 'fra_tst.txt', 'ita_tst.txt', 'nld_tst.txt', 'spa_tst.txt']\n"
     ]
    }
   ],
   "source": [
    "import re\n",
    "import os\n",
    "import nltk\n",
    "from nltk import word_tokenize\n",
    "from nltk.collocations import TrigramCollocationFinder\n",
    "\n",
    "train_files_list = [f for f in os.listdir('corpora') if re.search(r'_trn\\.txt$', f)]\n",
    "test_files_list = [f for f in os.listdir('corpora') if re.search(r'_tst\\.txt$', f)]\n",
    "\n"
   ]
  },
  {
   "cell_type": "markdown",
   "metadata": {},
   "source": [
    "## Preprocessing\n",
    "---\n",
    "\n",
    "· Eliminar digits del text \n",
    "· Convertir tot el text a minuscula\n",
    "· Eliminar caracters especials\n",
    "· Substitueix els espais en blanc continus per un de sol\n",
    "· Concatena totes les frases amb un espai doble al mig\n"
   ]
  },
  {
   "cell_type": "code",
   "execution_count": null,
   "metadata": {},
   "outputs": [],
   "source": [
    "def preprocessing(text):\n",
    "    text = text.lower() # Converteix a minúscules\n",
    "    text = re.sub(r'[^\\w\\s]', '', text) # Elimina signes de puntuació\n",
    "    text = re.sub(r'\\d+', '', text) # Elimina números\n",
    "    text = re.sub(r'\\s+', ' ', text) # Elimina espais en blanc sobrants excepte \\n\n",
    "    text = re.sub(r'\\n', '  ', text) # Substitueix \\n per dos espais en blanc\n",
    "\n",
    "    return text\n",
    "    "
   ]
  },
  {
   "cell_type": "markdown",
   "metadata": {},
   "source": [
    "# Creació dels trigrames de caracters, amb la seva freqüència"
   ]
  },
  {
   "cell_type": "code",
   "execution_count": null,
   "metadata": {},
   "outputs": [],
   "source": [
    "finder = TrigramCollocationFinder.from_words(text)\n",
    "finder.apply_freq_filter(5) # Filtra els trigrames que apareixen menys de 5 vegades\n",
    "\n",
    "trigrames = [tr for tr in finder.ngram_fd.items()]\n",
    "\n",
    "# Fer diccionaris de trigrames i freqüències\n"
   ]
  }
 ],
 "metadata": {
  "kernelspec": {
   "display_name": "myenv",
   "language": "python",
   "name": "python3"
  },
  "language_info": {
   "codemirror_mode": {
    "name": "ipython",
    "version": 3
   },
   "file_extension": ".py",
   "mimetype": "text/x-python",
   "name": "python",
   "nbconvert_exporter": "python",
   "pygments_lexer": "ipython3",
   "version": "3.12.1"
  }
 },
 "nbformat": 4,
 "nbformat_minor": 2
}
